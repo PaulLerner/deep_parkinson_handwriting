{
 "cells": [
  {
   "cell_type": "markdown",
   "metadata": {},
   "source": [
    "# Summary\n",
    "- [Data](#Data)\n",
    "- [Model](#Model)\n",
    "- [Training](#Training)\n",
    "    - [10-fold-cross-validation-(early-stopping)](#10-fold-cross-validation-(early-stopping))"
   ]
  },
  {
   "cell_type": "code",
   "execution_count": 1,
   "metadata": {},
   "outputs": [
    {
     "name": "stdout",
     "output_type": "stream",
     "text": [
      "cuda\n"
     ]
    }
   ],
   "source": [
    "\n",
    "#visualization\n",
    "import matplotlib.pyplot as plt\n",
    "#math tools\n",
    "import numpy as np\n",
    "from sklearn.preprocessing import normalize\n",
    "from sklearn.preprocessing import scale\n",
    "from sklearn.preprocessing import MinMaxScaler\n",
    "from scipy.signal import resample\n",
    "from scipy.signal import decimate\n",
    "#machine learning\n",
    "import torch\n",
    "from sklearn.model_selection import StratifiedKFold\n",
    "USE_CUDA = torch.cuda.is_available()\n",
    "device = torch.device(\"cuda\" if USE_CUDA else \"cpu\")\n",
    "print(device)\n",
    "#utils\n",
    "from time import time\n",
    "import warnings\n",
    "from os.path import join\n",
    "from os import listdir\n",
    "import pickle\n",
    "\n",
    "#custom\n",
    "from utils import *\n",
    "from load_data import *\n",
    "from model import Model\n",
    "from encoder import Encoder\n",
    "from training import *"
   ]
  },
  {
   "cell_type": "markdown",
   "metadata": {},
   "source": [
    "#  Utils"
   ]
  },
  {
   "cell_type": "code",
   "execution_count": 14,
   "metadata": {},
   "outputs": [],
   "source": [
    "\n",
    "def plot(plot_i,train,valid,test,average=True,ylim=None):\n",
    "    if average:\n",
    "        print(str((task_i,is_lstm,learning_rate,hidden_size,num_layers,bidirectional,\n",
    "        dropout,clip,window_size)).replace(\",\",\"|\"))\n",
    "        if early_stopping:\n",
    "            title = \"average {} over 10 folds over the {} first epochs\".format(index2plot[plot_i],shortest_fold)\n",
    "        else:\n",
    "            title = \"average {} over 10 folds over {} epochs\".format(index2plot[plot_i],n_epochs)\n",
    "    else :\n",
    "        train,test=np.asarray(train),np.asarray(test)\n",
    "        if valid:\n",
    "            valid=np.asarray(valid)\n",
    "        title=str((task_i,is_lstm,learning_rate,hidden_size,num_layers,bidirectional,\n",
    "    dropout,clip,window_size))\n",
    "    plt.figure()\n",
    "    plt.title(title)\n",
    "    plt.ylim(ylim)\n",
    "    plt.plot(train[:,plot_i],label=\"training\")\n",
    "    if valid:\n",
    "        plt.plot(valid[:,plot_i],label=\"validation\")\n",
    "    plt.plot(test[:,plot_i],label=\"test\")\n",
    "    plt.xlabel(\"epochs\")\n",
    "    plt.ylabel(index2plot[plot_i])\n",
    "    plt.legend()\n",
    "\n",
    "def return_results(train_metrics,valid_metrics,test_metrics,stopped_at,flat_falses):\n",
    "    train_metrics,test_metrics=np.asarray(train_metrics),np.asarray(test_metrics)\n",
    "    if early_stopping:\n",
    "        valid_metrics=np.asarray(valid_metrics)\n",
    "        str_valid_metrics=\"{:.2f} (± {:.2f})\".format(np.mean(valid_metrics[:,1]),np.std(valid_metrics[:,1]))\n",
    "    else:\n",
    "        str_valid_metrics=\"NA\"\n",
    "    \n",
    "    model_name=\"LSTM\" if is_lstm else \"GRU\"\n",
    "    task_name=index2task[task_i] if task_i is not None else str(task_i)\n",
    "    results=\"{} ; {} ; {} ; {}   ; {} ; {} ; {} ; {} ; {:.2f} (± {:.2f}) ; None ; {} ; {} ; NA ; {} ; TRUE ; {:.2f} (± {:.2f}) ; {} \".format(\n",
    "    task_name,model_name,learning_rate, hidden_size,num_layers,bidirectional,dropout,clip,\n",
    "    np.mean(stopped_at),np.std(stopped_at),compute_movement,early_stopping,downsampling_factor,\n",
    "     np.mean(train_metrics[:,1]),np.std(train_metrics[:,1]), str_valid_metrics)\n",
    "\n",
    "    test_metrics=test_metrics.T\n",
    "    for metric in test_metrics[1:]:#don't care about the loss\n",
    "        mean,std=np.mean(metric),np.std(metric)\n",
    "        results+=\"; {:.2f} (± {:.2f}) \".format(mean,std)\n",
    "    results+=\" ; \"\n",
    "    results+=\" ; \".join(map(str, flat_falses))\n",
    "    return results\n",
    "def print_results():\n",
    "    try:\n",
    "        if early_stopping:\n",
    "            folds_lengths=[len(fold) for fold in fold_valid_metrics]\n",
    "            assert np.max(folds_lengths) < n_epochs\n",
    "            print(\"number of epochs before early stopping for each fold:\\n\",folds_lengths)\n",
    "            longest_fold=np.argmax(folds_lengths)\n",
    "            shortest_fold=np.min(folds_lengths)\n",
    "            average_stop=int(round(np.mean(folds_lengths)-patience))-1#-1 to index to it\n",
    "            med_stop=int(round(np.median(folds_lengths)-patience-1))#-1 to index to it\n",
    "            best_index=-patience-1\n",
    "            stopped_at=[len(fold)-patience for fold in fold_valid_metrics]\n",
    "        else:\n",
    "            best_index=np.argmax(np.mean(fold_test_metrics,axis=0)[:,1])      \n",
    "            stopped_at=[best_index+1]\n",
    "    except AssertionError:\n",
    "        print(\"The model didn't early stop therefore fold[-patience-1] is not the best epoch\")    \n",
    "    else:    \n",
    "        best_falses=[fold[best_index] for fold in fold_falses]\n",
    "        flat_falses = sorted(flat_list(best_falses))\n",
    "        results=return_results([fold[best_index] for fold in fold_train_metrics],\n",
    "                      None,#[fold[best_index] for fold in fold_valid_metrics],\n",
    "                      [fold[best_index] for fold in fold_test_metrics],\n",
    "                      stopped_at,\n",
    "                       flat_falses)\n",
    "        print(results)"
   ]
  },
  {
   "cell_type": "markdown",
   "metadata": {},
   "source": [
    "# Data\n",
    "Cf `load_data.py`\n",
    "## Loading\n",
    "\n",
    "## Task selection\n",
    "set `task_i` to None if you want to train the model on all tasks at once (i.e. early fusion)  \n",
    "Else set `task_i` to the desired task index (cf. task2index)\n",
    "\n",
    "## Compute movement\n",
    "Transforms data as Zhang et al. (cf Report #5)\n",
    "\n",
    "## Scale then downsample (or not) then concatenate task id (or not)\n",
    "Set `downsampling_factor` to `1` if you don't want to downsample\n",
    "## Split in subsequence (or not)\n",
    "Set `window_size` to `None` if you don't want to split data into subsequence of fixed length  \n",
    "Set `paper_air_split` to `False` if you don't want to split data into strokes"
   ]
  },
  {
   "cell_type": "code",
   "execution_count": 3,
   "metadata": {},
   "outputs": [
    {
     "name": "stdout",
     "output_type": "stream",
     "text": [
      "\n",
      "loading and massaging data, this might take a few seconds...\n",
      "(75-3 subjects, 8 tasks, X timesteps, 7 measures)\n",
      "72 8 1772 7\n",
      "\n",
      "task index, name\n",
      "1 l\n",
      "len(data), len(targets), len(data[0]) :\n",
      "72 72 928\n",
      "\n",
      "movement was not computed (i.e. data was not transformed)\n",
      "\n",
      "scaling and downsampling\n",
      "\n",
      "len(data), len(targets), len(data[0]) :\n",
      "72 72 93\n",
      "\n",
      "splitting data into strokes\n",
      "len(data), data[0].shape, total n° of subsequences (i.e. training examples) :\n",
      "72 , 9 13 7 , 697\n"
     ]
    }
   ],
   "source": [
    "## Loading\n",
    "#Cf `load_data.py`\n",
    "task_i=task2index[\"l\"]\n",
    "compute_movement=False\n",
    "downsampling_factor=10\n",
    "window_size=None\n",
    "paper_air_split=True\n",
    "try:\n",
    "    assert window_size is None or not paper_air_split\n",
    "except AssertionError:\n",
    "    print(\"you have to choose between subsequences of fixed length and strokes !\")\n",
    "else:\n",
    "    print(\"\\nloading and massaging data, this might take a few seconds...\")\n",
    "    data_gen=load_data()\n",
    "    data,targets=[],[]\n",
    "    for subject,label in data_gen:\n",
    "        data.append(subject)\n",
    "        targets.append(label)\n",
    "    print(\"(75-3 subjects, 8 tasks, X timesteps, 7 measures)\")\n",
    "    print(len(data),len(data[0]),len(data[0][0]),len(data[0][0][0]))\n",
    "    data, targets= massage_data(data, targets,task_i, compute_movement, downsampling_factor, window_size,paper_air_split)\n",
    "    \n",
    "    "
   ]
  },
  {
   "cell_type": "markdown",
   "metadata": {},
   "source": [
    "### Merging strokes into letters\n",
    "\n",
    "Subjects 12, 21, 23,  44, 67 did 6 l instead of 5"
   ]
  },
  {
   "cell_type": "code",
   "execution_count": 4,
   "metadata": {},
   "outputs": [],
   "source": [
    "for j in range(len(data)):\n",
    "    tmp=[]\n",
    "    for i in range(0,len(data[j]),2):\n",
    "        try : \n",
    "            data[j][i+1]\n",
    "        except IndexError:\n",
    "            tmp.append(data[j][i])\n",
    "        else:\n",
    "            tmp.append(np.concatenate((data[j][i],data[j][i+1]),axis=0))\n",
    "    data[j]=tmp\n",
    "def pop(i,j):\n",
    "    data[i][j-1]=np.concatenate((data[i][j-1],data[i][j]))\n",
    "    data[i].pop(j)\n",
    "pop(22,1)\n",
    "pop(26,2)\n",
    "pop(36,5)\n",
    "pop(37,1)\n",
    "pop(41,4)\n",
    "pop(46,4)\n",
    "pop(48,1)\n",
    "pop(3,4)\n",
    "pop(3,2)\n",
    "#pop(6,5)\n",
    "#pop(6,3)\n",
    "pop(6,4)\n",
    "pop(14,6)\n",
    "pop(14,4)\n",
    "pop(14,2)\n",
    "pop(16,6)\n",
    "pop(16,4)\n",
    "pop(16,2)\n",
    "pop(21,5)\n",
    "pop(71,6)\n",
    "pop(71,2)\n",
    "\n",
    "assert [i for i,s in enumerate(data) if len(s) != 5]==[12, 21, 23, 44, 67]\n"
   ]
  },
  {
   "cell_type": "code",
   "execution_count": 19,
   "metadata": {},
   "outputs": [
    {
     "data": {
      "text/plain": [
       "365"
      ]
     },
     "execution_count": 19,
     "metadata": {},
     "output_type": "execute_result"
    }
   ],
   "source": [
    "sum([len(i) for i in data])"
   ]
  },
  {
   "cell_type": "markdown",
   "metadata": {},
   "source": [
    "# Model\n",
    "- [**Pytorch LSTM doc**](https://pytorch.org/docs/stable/nn.html#torch.nn.LSTM)\n",
    "- [**Pytorch Linear doc**](https://pytorch.org/docs/stable/nn.html#torch.nn.Linear)\n",
    "- [**Pytorch Binary Cross Entropy loss (BCELoss) doc**](https://pytorch.org/docs/stable/nn.html#torch.nn.BCELoss)"
   ]
  },
  {
   "cell_type": "markdown",
   "metadata": {},
   "source": [
    "## Definition\n",
    "Cf. Report #4 for details about the architecture of the model"
   ]
  },
  {
   "cell_type": "code",
   "execution_count": 5,
   "metadata": {},
   "outputs": [],
   "source": [
    "class Hierarchical(torch.nn.Module):\n",
    "    \"\"\"\n",
    "    Args:\n",
    "        input_size: The number of expected features in the input `x`\n",
    "        hidden_size: The number of features in the hidden state `h`        \n",
    "        bias: If ``False``, then the layer does not use bias weights `b_ih` and `b_hh`.\n",
    "            Default: ``True``        \n",
    "        dropout: If non-zero, introduces a `Dropout` layer on the outputs of each\n",
    "        LSTM layer except the last layer, with dropout probability equal to\n",
    "        :attr:`dropout`. Default: 0\n",
    "        batch_size : default : 1\n",
    "        output_size : default : 1\n",
    "        is_lstm : default : True\n",
    "    \"\"\"\n",
    "    def __init__(self, input_size, hidden_size, bias=True,dropout=0.0, batch_size=1,output_size=1,is_lstm=True):\n",
    "        super(Hierarchical, self).__init__()\n",
    "        #Vanilla LSTM\n",
    "        self.input_size = input_size\n",
    "        self.hidden_size = hidden_size\n",
    "        self.bias=bias        \n",
    "        self.dropout=dropout\n",
    "        self.batch_size=batch_size\n",
    "        self.output_size = output_size\n",
    "\n",
    "        # Define the LSTM layers\n",
    "        if is_lstm:\n",
    "            self.layer1=torch.nn.LSTMCell(self.input_size,self.hidden_size,self.bias)\n",
    "            self.layer2=torch.nn.LSTMCell(self.hidden_size,self.hidden_size,self.bias)\n",
    "        else:\n",
    "            self.layer1=torch.nn.GRUCell(self.input_size,self.hidden_size,self.bias)\n",
    "            self.layer2=torch.nn.GRUCell(self.hidden_size,self.hidden_size,self.bias)\n",
    "        \n",
    "        #define the dropout layer\n",
    "        self.dropout_layer=torch.nn.Dropout(self.dropout)\n",
    "\n",
    "        # Define the decoder layer\n",
    "        self.linear = torch.nn.Linear(self.hidden_size, self.output_size)\n",
    "        self.sigmoid = torch.nn.Sigmoid()\n",
    "        self.reset_hidden()\n",
    "                \n",
    "    def forward(self, input):\n",
    "        \"\"\"should take a subject as input\n",
    "        with subject = [seq1, seq2, ..., seqn]\"\"\"\n",
    "        layer1_hidden=[]\n",
    "        for seq in input:\n",
    "            #done before#seq=torch.Tensor(seq).unsqueeze(1).to(device)\n",
    "            for timestep in seq:#forward pass through the seq\n",
    "                if is_lstm:\n",
    "                    self.h_0,self.c_0=self.layer1(timestep,(self.h_0,self.c_0))\n",
    "                else:\n",
    "                    self.h_0=self.layer1(timestep,self.h_0)\n",
    "            layer1_hidden.append(self.h_0)#take only the last hidden state of the letter (i.e. the letter encoding)\n",
    "        for hidden in layer1_hidden:#feed all the letters encoding to the 2nd layer\n",
    "            self.dropout_layer(hidden)#we could either apply the feedforward dropout here or on : `layer1_hidden.append(h_0) `\n",
    "            if is_lstm:\n",
    "                self.h_1,self.c_1=self.layer2(hidden,(self.h_1,self.c_1))\n",
    "            else:\n",
    "                self.h_1=self.layer2(hidden,self.h_1)\n",
    "    \n",
    "        # Only take the output from the final timestep\n",
    "        drop=self.dropout_layer(self.h_1)\n",
    "        y_pred = self.linear(drop)\n",
    "        y_pred = self.sigmoid(y_pred)\n",
    "        return y_pred.squeeze(0)\n",
    "    \n",
    "    def reset_hidden(self,device=\"cuda\"):\n",
    "        \"\"\"\n",
    "        tensor containing the initial cell state for each element in the batch.\n",
    "\n",
    "        The hidden state(s) is (are) modified in place.\"\"\"\n",
    "\n",
    "        self.h_0=torch.zeros(self.batch_size, self.hidden_size,device=device)\n",
    "        self.h_1=torch.zeros(self.batch_size, self.hidden_size,device=device)\n",
    "        if is_lstm:\n",
    "            self.c_0=torch.zeros(self.batch_size, self.hidden_size,device=device)\n",
    "            self.c_1=torch.zeros(self.batch_size, self.hidden_size,device=device)\n",
    "    \n",
    "    def init_forget_bias(self):\n",
    "        \"\"\"Following advices of Jozefowicz et al. 2015,\n",
    "        we initialize the bias of the forget gate to a large value such as 1\n",
    "        In PyTorch, the forget gate bias is stored as b_hf in bias_hh_l[k] : \n",
    "        the learnable hidden-hidden bias of the kth layer (b_hi|b_hf|b_hg|b_ho), of shape (4*hidden_size).\n",
    "        So b_hf == bias_hh_lk[hidden_size:2*hidden_size]\n",
    "        \n",
    "        The weights are modified in-place, like init_hidden(self).\n",
    "        \"\"\"\n",
    "        \n",
    "        with torch.no_grad():#so the optimizer doesn't know about this ;)\n",
    "            self.layer1.bias_hh_l0[hidden_size:2*hidden_size]=torch.ones(self.hidden_size)\n",
    "            \n",
    "            self.layer2.bias_hh_l0[hidden_size:2*hidden_size]=torch.ones(self.hidden_size)\n",
    "                \n",
    "    def count_params(self):\n",
    "        \"\"\"returns (total n° of parameters, n° of trainable parameters)\"\"\"\n",
    "        total_params = sum(p.numel() for p in self.parameters())\n",
    "        trainable_params = sum(p.numel() for p in self.parameters() if p.requires_grad)\n",
    "        return total_params, trainable_params\n"
   ]
  },
  {
   "cell_type": "markdown",
   "metadata": {},
   "source": [
    "# Training"
   ]
  },
  {
   "cell_type": "code",
   "execution_count": 6,
   "metadata": {},
   "outputs": [
    {
     "name": "stdout",
     "output_type": "stream",
     "text": [
      "input_size : 7\n"
     ]
    }
   ],
   "source": [
    "hierarchical=True#this is only used in the training step, it doesnt set the model\n",
    "is_lstm=False\n",
    "augmentation=False\n",
    "learning_rate = 1e-3\n",
    "batch_size=1\n",
    "hidden_size=10\n",
    "dropout=0.0\n",
    "clip=5.0#clipping value to clip the gradients norm : set to None if you don't want to clip\n",
    "\n",
    "num_layers,bidirectional=2,False#these are not parametrable for the hierarchical model\n",
    "\n",
    "\"\"\"#if we perform single task learning on the whole sequence\n",
    "if task_i is not None and window_size is None and not paper_air_split:\n",
    "    input_size=len(data[0][0])#==7 if we take all the measures into account\n",
    "else:\n",
    "    input_size=len(data[0][0][0])#==7+8 if we train on multiple tasks, 7 if we train on subsequences (and single task)\n",
    "\"\"\"\n",
    "input_size=7\n",
    "print(\"input_size :\",input_size)\n",
    "bias=True\n",
    "batch_first=False#we should unsqueeze(1) to add a batch dimension\n",
    "batch_size=1\n",
    "output_size=1#binary classif : 1 means PD, 0 means control\n",
    "\n",
    "loss_fn=torch.nn.BCELoss()#Binary cross entropy\n",
    "paper_air_split=False#set to false to have regular training (see epoch)"
   ]
  },
  {
   "cell_type": "code",
   "execution_count": 7,
   "metadata": {},
   "outputs": [
    {
     "name": "stdout",
     "output_type": "stream",
     "text": [
      "(total n° of parameters, n° of trainable parameters)\n",
      "(1241, 1241)\n",
      "\n",
      "\n",
      "fold n°0, epoch n°14, spent 0m 47s\n",
      "TRAINING : loss 0.678, accuracy 0.531\n",
      "TEST : loss 0.721, accuracy 0.250, sensitivity  0.250, specificity 0.250, ppv 0.250, npv 0.250\n"
     ]
    }
   ],
   "source": [
    "\n",
    "run_CV=False#if False, breaks after one fold, else runs CV\n",
    "early_stopping=False\n",
    "n_epochs=15#max n° of epochs the model will be trained to\n",
    "#n° of epochs without improvement during which the model will wait before stopping (if early_stopping)\n",
    "#useless if not early_stopping\n",
    "patience = 10\n",
    "verbose=False\n",
    "fold_train_metrics,fold_test_metrics,fold_falses=[],[],[]\n",
    "start = time()\n",
    "np.random.seed(1)\n",
    "save_to_print=\"\"\n",
    "\n",
    "skf = StratifiedKFold(n_splits=10, random_state=1, shuffle=True)\n",
    "cv_generator=skf.split(data,targets)\n",
    "\n",
    "for fold,(train_index,test_index) in enumerate(cv_generator):      \n",
    "    train_metrics,test_metrics,falses=[],[],[]\n",
    "\n",
    "    torch.manual_seed(1)#random seed for weights init\n",
    "    model= Hierarchical(input_size, hidden_size, bias, dropout,batch_size,output_size, is_lstm).to(device)\n",
    "    if isinstance(model,torch.nn.LSTM):\n",
    "        model.init_forget_bias()\n",
    "    optimizer = torch.optim.Adam(model.parameters(), lr=learning_rate)\n",
    "\n",
    "    if fold==0:        \n",
    "        print(\"(total n° of parameters, n° of trainable parameters)\")\n",
    "        print(model.count_params())\n",
    "\n",
    "    best_accuracy=0\n",
    "    #best_loss=10000.0\n",
    "    impatience=0\n",
    "    for i in range(n_epochs):                \n",
    "        to_print=\"\"\n",
    "        np.random.shuffle(train_index)#shuffle training to facilitate SGD        \n",
    "        #training\n",
    "        model.train()\n",
    "        [loss,accuracy,sensitivity,specificity,ppv,npv],_=epoch(\n",
    "        data, targets, model, optimizer, loss_fn, batch_size, train_index,device=device,hierarchical=hierarchical,\n",
    "            clip=clip,validation=False,window_size=window_size,task_i=task_i,augmentation=augmentation,paper_air_split=paper_air_split)\n",
    "        train_metrics.append([loss,accuracy,sensitivity,specificity,ppv,npv])\n",
    "        to_print+=\"\\n\\nfold n°{}, epoch n°{}, spent {}\".format(fold,i,timeSince(start))\n",
    "        to_print+=\"\\nTRAINING : loss {:.3f}, accuracy {:.3f}\".format(loss,accuracy)\n",
    "\n",
    "        #test\n",
    "        [loss,accuracy,sensitivity,specificity,ppv,npv],false=epoch(\n",
    "            data, targets, model, optimizer, loss_fn, batch_size, test_index,device=device,hierarchical=hierarchical,\n",
    "            validation=True,window_size=window_size,task_i=task_i,augmentation=False,paper_air_split=paper_air_split)    \n",
    "        test_metrics.append([loss,accuracy,sensitivity,specificity,ppv,npv])\n",
    "        falses.append(false)\n",
    "        to_print+=\"\\nTEST : loss {:.3f}, accuracy {:.3f}, sensitivity  {:.3f}, specificity {:.3f}, ppv {:.3f}, npv {:.3f}\".format(\n",
    "            loss,accuracy,sensitivity,specificity,ppv,npv)       \n",
    "\n",
    "        #patience update\n",
    "        #useless if not early stopping\n",
    "        if accuracy <= best_accuracy:#`<=` no improvement is considered bad !#loss>=best_loss:\n",
    "            impatience+=1\n",
    "        else:\n",
    "            best_accuracy=accuracy #best_loss=loss#\n",
    "            impatience=0\n",
    "        if verbose:\n",
    "            print(to_print)\n",
    "        save_to_print+=to_print\n",
    "        #early stopping\n",
    "        if impatience >= patience and early_stopping:\n",
    "            save_to_print+=\"\\nEarly stopped.\"\n",
    "            break     \n",
    "\n",
    "    fold_train_metrics.append(train_metrics)\n",
    "    fold_test_metrics.append(test_metrics)\n",
    "    fold_falses.append(falses)\n",
    "    if not run_CV:\n",
    "        break\n",
    "if not verbose:\n",
    "    print(to_print)#save_to_print)\n",
    "\n",
    "if run_CV:   \n",
    "    # Save metrics\n",
    "    filename=join(\"experiments\",\"x_y\"+str((task_i,is_lstm,learning_rate,hidden_size,num_layers,bidirectional,\n",
    "    dropout,clip,window_size)))\n",
    "    for metrics,metric_type in list(zip([fold_train_metrics,\n",
    "    fold_test_metrics],[\"train\",\"test\"])):\n",
    "        with open(filename+metric_type, 'wb') as fp:\n",
    "            pickle.dump(metrics, fp)\n",
    "    \n",
    "    print_results() "
   ]
  },
  {
   "cell_type": "code",
   "execution_count": 18,
   "metadata": {},
   "outputs": [
    {
     "data": {
      "image/png": "[encoded data removed]",
      "text/plain": [
       "<Figure size 432x288 with 1 Axes>"
      ]
     },
     "metadata": {
      "needs_background": "light"
     },
     "output_type": "display_data"
    }
   ],
   "source": [
    "plot(0,train_metrics,None,test_metrics,False,(0.6,0.8))"
   ]
  },
  {
   "cell_type": "code",
   "execution_count": 25,
   "metadata": {},
   "outputs": [
    {
     "data": {
      "image/png": "[encoded data removed]",
      "text/plain": [
       "<Figure size 432x288 with 1 Axes>"
      ]
     },
     "metadata": {
      "needs_background": "light"
     },
     "output_type": "display_data"
    }
   ],
   "source": [
    "plot(0,train_metrics,None,test_metrics,False)"
   ]
  },
  {
   "cell_type": "code",
   "execution_count": 22,
   "metadata": {},
   "outputs": [
    {
     "data": {
      "image/png": "[encoded data removed]",
      "text/plain": [
       "<Figure size 432x288 with 1 Axes>"
      ]
     },
     "metadata": {
      "needs_background": "light"
     },
     "output_type": "display_data"
    }
   ],
   "source": []
  },
  {
   "cell_type": "code",
   "execution_count": 17,
   "metadata": {},
   "outputs": [
    {
     "data": {
      "image/png": "[encoded data removed]",
      "text/plain": [
       "<Figure size 432x288 with 1 Axes>"
      ]
     },
     "metadata": {
      "needs_background": "light"
     },
     "output_type": "display_data"
    }
   ],
   "source": [
    "plot(0,train_metrics,None,test_metrics,False)"
   ]
  }
 ],
 "metadata": {
  "kernelspec": {
   "display_name": "Python 3",
   "language": "python",
   "name": "python3"
  },
  "language_info": {
   "codemirror_mode": {
    "name": "ipython",
    "version": 3
   },
   "file_extension": ".py",
   "mimetype": "text/x-python",
   "name": "python",
   "nbconvert_exporter": "python",
   "pygments_lexer": "ipython3",
   "version": "3.7.2"
  }
 },
 "nbformat": 4,
 "nbformat_minor": 2
}
